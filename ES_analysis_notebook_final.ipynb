{
 "cells": [
  {
   "cell_type": "markdown",
   "id": "959178c1",
   "metadata": {},
   "source": [
    "\n",
    "# ES 5-Year Data Analysis\n",
    "\n",
    "## Project Introduction\n",
    "\n",
    "This project provides an in-depth analysis of the ES index data over a five-year period. By leveraging historical price and volume data, the analysis seeks to uncover key trends, volatility patterns, and potential future price movements. The project utilizes various statistical methods, visualization techniques, and predictive modeling to achieve the following objectives:\n",
    "\n",
    "- Understand the historical price behavior and trading volume trends of the ES index.\n",
    "- Identify periods of high volatility and significant market movements.\n",
    "- Develop predictive models to forecast future prices.\n",
    "- Provide actionable insights and recommendations based on the findings.\n",
    "\n",
    "The analysis will be useful for investors, financial analysts, and stakeholders interested in gaining insights into the ES market behavior.\n"
   ]
  },
  {
   "cell_type": "code",
   "execution_count": null,
   "id": "0233a5e3",
   "metadata": {},
   "outputs": [],
   "source": [
    "\n",
    "import pandas as pd\n",
    "import numpy as np\n",
    "import matplotlib.pyplot as plt\n",
    "import seaborn as sns\n",
    "from statsmodels.tsa.arima.model import ARIMA\n",
    "import warnings\n",
    "\n",
    "# Suppress specific warnings\n",
    "warnings.filterwarnings('ignore')\n"
   ]
  },
  {
   "cell_type": "markdown",
   "id": "9ff29ed3",
   "metadata": {},
   "source": [
    "\n",
    "## Data Preprocessing\n",
    "\n",
    "In this section, we preprocess the ES data to ensure it is ready for analysis. We convert the time column to a datetime format, set the frequency, and aggregate the data to a daily frequency. This prepares the dataset for exploratory analysis and modeling.\n"
   ]
  },
  {
   "cell_type": "code",
   "execution_count": null,
   "id": "5c20435d",
   "metadata": {},
   "outputs": [],
   "source": [
    "\n",
    "# Load ES data\n",
    "es_data = pd.read_csv('ES_5Years_8_11_2024.csv')\n",
    "es_data['Time'] = pd.to_datetime(es_data['Time'], format='%m/%d/%Y %H:%M')\n",
    "es_data.set_index('Time', inplace=True)\n",
    "\n",
    "# Aggregate to daily frequency\n",
    "es_daily = es_data.resample('D').agg({\n",
    "    'Open': 'first',\n",
    "    'High': 'max',\n",
    "    'Low': 'min',\n",
    "    'Close': 'last',\n",
    "    'Volume': 'sum'\n",
    "})\n",
    "\n",
    "# Ensure the date index has a frequency set\n",
    "es_daily.index = es_daily.index.to_period('D')\n",
    "\n",
    "# Calculate Daily Returns\n",
    "es_daily['Daily Return'] = es_daily['Close'].pct_change()\n",
    "\n",
    "es_daily.head()\n"
   ]
  },
  {
   "cell_type": "markdown",
   "id": "a8c56526",
   "metadata": {},
   "source": [
    "\n",
    "## Exploratory Data Analysis (EDA)\n",
    "\n",
    "We perform EDA to gain insights into the ES price movements and trading volumes over time. This includes visualizing the closing prices, trading volumes, moving averages, and daily returns.\n"
   ]
  },
  {
   "cell_type": "code",
   "execution_count": null,
   "id": "45beee33",
   "metadata": {},
   "outputs": [],
   "source": [
    "\n",
    "# Convert Period index back to datetime for plotting\n",
    "es_daily.index = es_daily.index.to_timestamp()\n",
    "\n",
    "# Plotting ES Close Price over time\n",
    "plt.figure(figsize=(14, 7))\n",
    "plt.plot(es_daily['Close'], label='Close Price')\n",
    "plt.title('ES Close Price Over Time')\n",
    "plt.xlabel('Date')\n",
    "plt.ylabel('Close Price')\n",
    "plt.legend()\n",
    "plt.show()\n",
    "\n",
    "# Plotting ES Trading Volume over time\n",
    "plt.figure(figsize=(14, 7))\n",
    "plt.plot(es_daily['Volume'], label='Volume', color='orange')\n",
    "plt.title('ES Trading Volume Over Time')\n",
    "plt.xlabel('Date')\n",
    "plt.ylabel('Volume')\n",
    "plt.legend()\n",
    "plt.show()\n",
    "\n",
    "# Moving averages\n",
    "es_daily['20_Day_MA'] = es_daily['Close'].rolling(window=20).mean()\n",
    "es_daily['50_Day_MA'] = es_daily['Close'].rolling(window=50).mean()\n",
    "\n",
    "plt.figure(figsize=(14, 7))\n",
    "plt.plot(es_daily['Close'], label='Close Price')\n",
    "plt.plot(es_daily['20_Day_MA'], label='20-Day Moving Average', linestyle='--')\n",
    "plt.plot(es_daily['50_Day_MA'], label='50-Day Moving Average', linestyle='--')\n",
    "plt.title('ES Close Price with Moving Averages')\n",
    "plt.xlabel('Date')\n",
    "plt.ylabel('Price')\n",
    "plt.legend()\n",
    "plt.show()\n",
    "\n",
    "# Volatility Analysis: Daily Returns\n",
    "plt.figure(figsize=(10, 6))\n",
    "sns.histplot(es_daily['Daily Return'].dropna(), bins=50, kde=True)\n",
    "plt.title('Distribution of ES Daily Returns')\n",
    "plt.xlabel('Daily Return')\n",
    "plt.ylabel('Frequency')\n",
    "plt.show()\n"
   ]
  },
  {
   "cell_type": "markdown",
   "id": "2da70a22",
   "metadata": {},
   "source": [
    "\n",
    "## Statistical Analysis\n",
    "\n",
    "We perform statistical analysis to understand the relationships between different features in the ES dataset. This includes correlation analysis and analyzing the distribution of daily returns to identify major market movements.\n"
   ]
  },
  {
   "cell_type": "code",
   "execution_count": null,
   "id": "71781c4a",
   "metadata": {},
   "outputs": [],
   "source": [
    "\n",
    "# Correlation analysis\n",
    "correlation_matrix = es_daily[['Open', 'High', 'Low', 'Close', 'Volume']].corr()\n",
    "plt.figure(figsize=(10, 6))\n",
    "sns.heatmap(correlation_matrix, annot=True, cmap='coolwarm')\n",
    "plt.title('Correlation Matrix of ES Data')\n",
    "plt.show()\n",
    "\n",
    "# Analyzing major market movements\n",
    "significant_changes = es_daily[es_daily['Daily Return'].abs() > 0.02]\n",
    "significant_changes[['Close', 'Daily Return']]\n"
   ]
  },
  {
   "cell_type": "markdown",
   "id": "5a503d30",
   "metadata": {},
   "source": [
    "\n",
    "## Predictive Modeling\n",
    "\n",
    "In this section, we apply predictive models to forecast future ES prices based on historical data. We use ARIMA (AutoRegressive Integrated Moving Average) as a simple time series model to predict future closing prices.\n"
   ]
  },
  {
   "cell_type": "code",
   "execution_count": null,
   "id": "81bc521a",
   "metadata": {},
   "outputs": [],
   "source": [
    "\n",
    "# Prepare data for ARIMA model\n",
    "es_close = es_daily['Close'].dropna()\n",
    "\n",
    "# Fit ARIMA model\n",
    "model = ARIMA(es_close, order=(5, 1, 0))\n",
    "arima_result = model.fit()\n",
    "\n",
    "# Predict future values\n",
    "es_daily['Forecast'] = arima_result.predict(start=len(es_close), end=len(es_close) + 30, dynamic=True)\n",
    "\n",
    "# Plot actual vs predicted\n",
    "plt.figure(figsize=(14, 7))\n",
    "plt.plot(es_close, label='Actual Close Prices')\n",
    "plt.plot(es_daily['Forecast'], label='Forecasted Close Prices', linestyle='--')\n",
    "plt.title('ES Actual vs Predicted Close Prices')\n",
    "plt.xlabel('Date')\n",
    "plt.ylabel('Close Price')\n",
    "plt.legend()\n",
    "plt.show()\n"
   ]
  },
  {
   "cell_type": "markdown",
   "id": "a624b491",
   "metadata": {},
   "source": [
    "\n",
    "## Conclusion\n",
    "\n",
    "### Insights and Observations:\n",
    "- The ES index shows significant periods of volatility, indicated by daily returns and moving averages.\n",
    "- Correlation analysis highlights strong relationships between open, high, low, and close prices.\n",
    "- The ARIMA model provides a basic forecast, suggesting potential trends in future prices. However, more complex models may improve accuracy.\n",
    "\n",
    "### Final Thoughts:\n",
    "Continuous monitoring and modeling adjustments are crucial for capturing the market's behavior accurately. Including external factors such as macroeconomic indicators and sentiment analysis could further enhance forecasting models.\n"
   ]
  }
 ],
 "metadata": {},
 "nbformat": 4,
 "nbformat_minor": 5
}
